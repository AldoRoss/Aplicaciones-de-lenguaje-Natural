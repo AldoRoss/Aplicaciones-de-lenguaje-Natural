{
  "nbformat": 4,
  "nbformat_minor": 0,
  "metadata": {
    "colab": {
      "provenance": []
    },
    "kernelspec": {
      "name": "python3",
      "display_name": "Python 3"
    },
    "language_info": {
      "name": "python"
    }
  },
  "cells": [
    {
      "cell_type": "code",
      "source": [
        "from sklearn.feature_extraction.text import TfidfVectorizer\n",
        "from nltk.corpus import stopwords\n",
        "import pandas as pd\n",
        "import nltk\n",
        "\n",
        "# Descargar stopwords si no las tienes descargadas\n",
        "nltk.download('stopwords')\n",
        "\n",
        "def extraer_palabras_clave_tfidf(textos, n_palabras_clave=35):\n",
        "    palabras_clave_por_texto = []\n",
        "\n",
        "    # Obtener la lista de stopwords en español\n",
        "    #stopwords_espanol = stopwords.words('spanish')\n",
        "\n",
        "    # Crear un vectorizador TF-IDF con stopwords\n",
        "    #vectorizador = TfidfVectorizer(ngram_range=(1, 2), max_features=1000, stop_words=stopwords_espanol)\n",
        "    vectorizador = TfidfVectorizer(ngram_range=(1, 2), max_features=1000)\n",
        "\n",
        "    # Ajustar y transformar los textos\n",
        "    tfidf_matriz = vectorizador.fit_transform(textos)\n",
        "\n",
        "    # Obtener los tokens (palabras o bigramas) del vectorizador\n",
        "    tokens = vectorizador.get_feature_names_out()\n",
        "\n",
        "    for i in range(len(textos)):\n",
        "        # Obtener los pesos TF-IDF para el texto actual\n",
        "        pesos_tfidf = tfidf_matriz[i].toarray()[0]\n",
        "\n",
        "        # Crear un DataFrame con los tokens y sus pesos\n",
        "        df = pd.DataFrame({'token': tokens, 'peso_tfidf': pesos_tfidf})\n",
        "\n",
        "        # Ordenar por peso TF-IDF en orden descendente\n",
        "        df = df.sort_values(by='peso_tfidf', ascending=False)\n",
        "\n",
        "        # Obtener las n palabras clave más importantes\n",
        "        palabras_clave_texto = list(df['token'].head(n_palabras_clave))\n",
        "\n",
        "        # Agregar las palabras clave a la lista\n",
        "        palabras_clave_por_texto.append(palabras_clave_texto)\n",
        "\n",
        "    return palabras_clave_por_texto"
      ],
      "metadata": {
        "colab": {
          "base_uri": "https://localhost:8080/"
        },
        "id": "5B1MaseNjNfN",
        "outputId": "d037b005-f6e9-4088-c637-89b15009417a"
      },
      "execution_count": null,
      "outputs": [
        {
          "output_type": "stream",
          "name": "stderr",
          "text": [
            "[nltk_data] Downloading package stopwords to /root/nltk_data...\n",
            "[nltk_data]   Package stopwords is already up-to-date!\n"
          ]
        }
      ]
    },
    {
      "cell_type": "code",
      "source": [
        "import re\n",
        "\n",
        "def separar_parrafos_regex(texto):\n",
        "    patron_parrafo = r\"(?:\\n\\n|\\n)([\\s\\S]*?)(?:\\n\\n|\\n|$)\"\n",
        "    parrafos = re.findall(patron_parrafo, texto)\n",
        "    return parrafos"
      ],
      "metadata": {
        "id": "_zSyLqE6kbhc"
      },
      "execution_count": null,
      "outputs": []
    },
    {
      "cell_type": "code",
      "source": [
        "from collections import Counter\n",
        "\n",
        "# Lista de listas de palabras\n",
        "\n",
        "def generar_lista_final(listas_palabras):\n",
        "  num_palabras = 300\n",
        "  # Crear un contador para contar la frecuencia de cada palabra\n",
        "  contador_palabras = Counter()\n",
        "\n",
        "  # Iterar sobre cada lista de palabras y actualizar el contador\n",
        "  for lista in listas_palabras:\n",
        "      contador_palabras.update(lista)\n",
        "\n",
        "  # Obtener las 1000 palabras más frecuentes\n",
        "  palabras_frecuentes = [palabra for palabra, frecuencia in contador_palabras.most_common(num_palabras)]\n",
        "\n",
        "  return palabras_frecuentes"
      ],
      "metadata": {
        "id": "oSwqIHTouMuM"
      },
      "execution_count": null,
      "outputs": []
    },
    {
      "cell_type": "code",
      "execution_count": null,
      "metadata": {
        "colab": {
          "base_uri": "https://localhost:8080/"
        },
        "id": "4s-KDrvqI718",
        "outputId": "7bf4993e-1947-4f72-b5c6-ef950400c157"
      },
      "outputs": [
        {
          "output_type": "stream",
          "name": "stdout",
          "text": [
            "['la', 'de', 'saber absolutamente', 'sala', 'salir', 'un', 'en', 'sala en', 'rumor ahogado', 'rígidas', 'saber', 'saber por', 'se', 'el', 'se acerca', 'rígidas del', 'salir al', 'salía', 'salía de', 'sangre la', 'se acababa', 'rubia angelical', 'rumor', 'sangre', 'se aplaca', 'del', 'una', 'rubia', 'se arrastró', 'se despierta', 'que', 'los', 'se echan', 'abandono', 'rozar el', 'se desvanecen', 'su', 'jordán', 'de la', 'rozar', 'se ha', 'rotunda todas', 'no', 'rozado ningún', 'sin', 'por', 'al', 'alicia', 'sirvienta', 'la sirvienta', 'zumbido', 'siento', 'puedo', 'un zumbido', 'como', 'reverberación', 'rotunda', 'para', 'esta', 'resistente', 'residuo un', 'reír pues', 'rozado aquél', 'rozado', 'risa se', 'sin demora', 'sin dejar', 'jordán en', 'baja', 'enseguida', 'respaldo', 'temblando', 'después de', 'rato de', 'después', 'resopló', 'resopló jordán', 'en el', 'parecen', 'retardándose', 'corteza en', 'conserva la', 'mientras sus', 'si todo', 'compañeros', 'compañeros han', 'perdido gran', 'perdido', 'su extensión', 'lo largo', 'conserva', 'muy claro', 'yace en', 'muy', 'parte de', 'contra', 'contra el', 'suelo mientras', 'monte los', 'sus compañeros', 'una franja', 'suya', 'suya casi', 'cuyo', 'cuyo tronco', 'yace', 'los hombres', 'claro', 'todo lo', 'árbol cuyo', 'zumbido de', 'remover la', 'mover', 'medular', 'ya mover', 'que otro', 'siento un', 'no puedo', 'remover', 'otro dedo', 'mi aliento', 'puedo ya', 'que mi', 'medular que', 'zumbido fijo', 'manos apenas', 'todo en', 'mover las', 'parece defluirse', 'parece', 'uno que', 'manos', 'desde hace', 'lo inunda', 'apenas', 'un instante', 'que lo', 'instante', 'es', 'mi', 'verdad como', 'otras', 'otras flotan', 'otro yo', 'que de', 'danzan', 'pasado', 'pasado que', 'percepción', 'percepción de', 'como reverberación', 'mi mente', 'una más', 'que tampoco', 'danzan en', 'mi existir', 'una como', 'un pasado', 'un gran', 'de mi', 'tampoco', 'tampoco me', 'más rotunda', 'reverberación lejanísima', 'hasta', 'para el', 'monte', 'unifique', 'de calzado', 'tronco que', 'propiedad', 'propiedad alguna', 'cuero', 'los soles', 'soles', 'unifique árboles', 'soles secarán', 'rebrote', 'cuero de', 'como para', 'se sucederán', 'secarán', 'secarán líquenes', 'rebrote unifique', 'lo sostiene', 'sostiene', 'sostiene las', 'corteza ropa', 'ningún pique', 'monte rebrote', 'ningún', 'desde propiedad', 'potasa', 'potasa huesos', 'él desde', 'sentado como', 'con el', 'psicológica', 'psicológica estallarán', 'resistir de', 'siempre', 'resistente para', 'residuo', 'vale', 'qué vale', 'muerte qué', 'cohete', 'muerte', 'vale ella', 'un cohete', 'un ex', 'vida esta', 'que este', 'verdad mas', 'para siempre', 'cohete dejando', 'siempre adelante', 'mas para', 'tortura psicológica', 'oscura', 'por todo', 'rostro', 'preciso', 'preciso en', 'no lo', 'veo', 'cuatro médicos', 'cuatro', 'cuartito de', 'ya veo', 'se empeñan', 'convencerme de', 'pues', 'convencerme', 'veo ahora', 'consigo ya', 'pensamiento', 'consigo', 'mi pensamiento', 'lo consigo', 'quiero', 'quiero cerrar', 'siguen', 'yo los', 'reír', 'médicos amigos', 'no voy', 'un cuartito', 'de hospital', 'observo', 'silencio ellos', 'observo en', 'ojos no', 'morir yo', 'siguen mi', 'moscas', 'médicos su', 'risa', 'desvanecen', 'desvanecen en', 'cuartito blanqueado', 'súbitamente el', 'súbitamente', 'su risa', 'cuartito', 'hospital', 'los médicos', 'en un', 'médicos', 'han', 'demora', 'han acudido', 'acudido', 'acudido sin', 'las', 'en la', 'una presa', 'sentado por', 'cortada', 'ojos las', 'segura', 'olido', 'segura en', 'olido ya', 'tal vez', 'tal', 'que zumban', 'son', 'son ellas', 'prisa midiendo', 'monte por', 'cómo conocimiento', 'que he', 'sé cómo', 'conocimiento de', 'volar', 'sol', 'ver', 'aquí', 'ya']\n"
          ]
        }
      ],
      "source": [
        "HoracioQuiroga = \"\"\"\n",
        "Al rozar el monte, los hombres tumbaron el año anterior este árbol, cuyo tronco yace en toda su extensión aplastado contra el suelo. Mientras sus compañeros han perdido gran parte de la corteza en el incendio del rozado, aquél conserva la suya casi intacta. Apenas si a todo lo largo una franja carbonizada habla muy claro de la acción del fuego.\n",
        "\n",
        "Esto era el invierno pasado. Han transcurrido cuatro meses. En medio del rozado perdido por la sequía, el árbol tronchado yace siempre en un páramo de cenizas. Sentado contra el tronco, el dorso apoyado en él, me hallo también inmóvil. En algún punto de la espalda tengo la columna vertebral rota. He caído allí mismo, después de tropezar sin suerte contra un raigón. Tal como he caído, permanezco sentado -quebrado, mejor dicho- contra el árbol.\n",
        "\n",
        "Desde hace un instante siento un zumbido fijo -el zumbido de la lesión medular- que lo inunda todo, y en el que mi aliento parece defluirse. No puedo ya mover las manos, y apenas uno que otro dedo alcanza a remover la ceniza.\n",
        "\n",
        "Clarísima y capital, adquiero desde este instante mismo la certidumbre de que a ras del suelo mi vida está aguardando la instantaneidad de unos segundos para extinguirse de una vez.\n",
        "\n",
        "Esta es la verdad. Como ella, jamás se ha presentado a mi mente una más rotunda. Todas las otras flotan, danzan en una como reverberación lejanísima de otro yo, en un pasado que tampoco me pertenece. La única percepción de mi existir, pero flagrante como un gran golpe asestado en silencio, es que de aquí a un instante voy a morir.\n",
        "\n",
        "¿Pero cuándo? ¿Qué segundos y qué instantes son éstos en que esta exasperada conciencia de vivir todavía dejará paso a un sosegado cadáver?\n",
        "\n",
        "Nadie se acerca en este rozado: ningún pique de monte lleva hasta él desde propiedad alguna. Para el hombre allí sentado, como para el tronco que lo sostiene, las lluvias se sucederán mojando corteza y ropa, y los soles secarán líquenes y cabellos, hasta que el monte rebrote y unifique árboles y potasa, huesos y cuero de calzado.\n",
        "\n",
        "¡Y nada, nada en la serenidad del ambiente que denuncie y grite tal acontecimiento! Antes bien, a través de los troncos y negros gajos del rozado, desde aquí o allá, sea cual fuere el punto de observación, cualquiera puede contemplar con perfecta nitidez al hombre cuya vida está a punto de detenerse sobre la ceniza, atraída como un péndulo por ingente gravedad: tan pequeño es el lugar que ocupa en el rozado y tan clara su situación: se muere.\n",
        "\n",
        "Esta es la verdad. Mas para la oscura animalidad resistente, para el latir y el alentar amenazados de muerte, ¿qué vale ella ante la bárbara inquietud del instante preciso en que este resistir de la vida y esta tremenda tortura psicológica estallarán como un cohete, dejando por todo residuo un ex hombre con el rostro fijo para siempre adelante?\n",
        "\n",
        "El zumbido aumenta cada vez más. Ciérnese ahora sobre mis ojos un velo de densa tiniebla en que se destacan rombos verdes. Y en seguida veo la puerta amurallada de un zoco marroquí, por una de cuyas hojas sale a escape una tropilla de potros blancos, mientras por la otra entra corriendo una teoría de hombres decapitados.\n",
        "\n",
        "Quiero cerrar los ojos, y no lo consigo ya. Veo ahora un cuartito de hospital, donde cuatro médicos amigos se empeñan en convencerme de que no voy a morir. Yo los observo en silencio, y ellos se echan a reír, pues siguen mi pensamiento.\n",
        "\n",
        "-Entonces -dice uno de aquéllos -no le queda más prueba de convicción que la jaulita de moscas. Yo tengo una.\n",
        "\n",
        "-¿Moscas?…\n",
        "\n",
        "-Sí -responde-, moscas verdes de rastreo. Usted no ignora que las moscas verdes olfatean la descomposición de la carne mucho antes de producirse la defunción del sujeto. Vivo aún el paciente, ellas acuden, seguras de su presa. Vuelan sobre ella sin prisa mas sin perderla de vista, pues ya han olido su muerte. Es el medio más eficaz de pronóstico que se conozca. Por eso yo tengo algunas de olfato afinadísimo por la selección, que alquilo a precio módico. Donde ellas entran, presa segura. Puedo colocarlas en el corredor cuando usted quede solo, y abrir la puerta de la jaulita que, dicho sea de paso, es un pequeño ataúd. A usted no le queda más tarea que atisbar el ojo de la cerradura. Si una mosca entra y la oye usted zumbar, esté seguro de que las otras hallarán también el camino hasta usted. Las alquilo a precio módico.\n",
        "\n",
        "¿Hospital…? Súbitamente el cuartito blanqueado, el botiquín, los médicos y su risa se desvanecen en un zumbido…\n",
        "\n",
        "Y bruscamente, también, se hace en mí la revelación. ¡Las moscas!\n",
        "\n",
        "Son ellas las que zumban. Desde que he caído han acudido sin demora. Amodorradas en el monte por el ámbito de fuego, las moscas han tenido, no sé cómo, conocimiento de una presa segura en la vecindad. Han olido ya la próxima descomposición del hombre sentado, por caracteres inapreciables para nosotros, tal vez en la exhalación a través de la carne de la médula espinal cortada. Han acudido sin demora y revolotean sin prisa, midiendo con los ojos las proporciones del nido que la suerte acaba de deparar a sus huevos.\n",
        "\n",
        "El médico tenía razón. No puede ser su oficio más lucrativo.\n",
        "\n",
        "Mas he aquí que esta ansia desesperada de resistir se aplaca y cede el paso a una beata imponderabilidad. No me siento ya un punto fijo en la tierra, arraigado a ella por gravísima tortura. Siento que fluye de mí como la vida misma, la ligereza del vaho ambiente, la luz del sol, la fecundidad de la hora. Libre del espacio y el tiempo, puedo ir aquí, allá, a este árbol, a aquella liana. Puedo ver, lejanísimo ya, como un recuerdo de remoto existir, puedo todavía ver, al pie de un tronco, un muñeco de ojos sin parpadeo, un espantapájaros de mirar vidrioso y piernas rígidas. Del seno de esta expansión, que el sol dilata desmenuzando mi conciencia en un billón de partículas, puedo alzarme y volar, volar…\n",
        "\n",
        "Y vuelo, y me poso con mis compañeras sobre el tronco caído, a los rayos del sol que prestan su fuego a nuestra obra de renovación vital.\n",
        "\n",
        "Su luna de miel fue un largo escalofrío. Rubia, angelical y tímida, el carácter duro de su marido heló sus soñadas niñerías de novia. Ella lo quería mucho, sin embargo, a veces con un ligero estremecimiento cuando volviendo de noche juntos por la calle, echaba una furtiva mirada a la alta estatura de Jordán, mudo desde hacía una hora. Él, por su parte, la amaba profundamente, sin darlo a conocer.\n",
        "\n",
        "\n",
        "\n",
        "Durante tres meses -se habían casado en abril- vivieron una dicha especial.\n",
        "\n",
        "Sin duda hubiera ella deseado menos severidad en ese rígido cielo de amor, más expansiva e incauta ternura; pero el impasible semblante de su marido la contenía siempre.\n",
        "\n",
        "La casa en que vivían influía un poco en sus estremecimientos. La blancura del patio silencioso -frisos, columnas y estatuas de mármol- producía una otoñal impresión de palacio encantado. Dentro, el brillo glacial del estuco, sin el más leve rasguño en las altas paredes, afirmaba aquella sensación de desapacible frío. Al cruzar de una pieza a otra, los pasos hallaban eco en toda la casa, como si un largo abandono hubiera sensibilizado su resonancia.\n",
        "\n",
        "En ese extraño nido de amor, Alicia pasó todo el otoño. No obstante, había concluido por echar un velo sobre sus antiguos sueños, y aún vivía dormida en la casa hostil, sin querer pensar en nada hasta que llegaba su marido.\n",
        "\n",
        "No es raro que adelgazara. Tuvo un ligero ataque de influenza que se arrastró insidiosamente días y días; Alicia no se reponía nunca. Al fin una tarde pudo salir al jardín apoyada en el brazo de él. Miraba indiferente a uno y otro lado. De pronto Jordán, con honda ternura, le pasó la mano por la cabeza, y Alicia rompió en seguida en sollozos, echándole los brazos al cuello. Lloró largamente todo su espanto callado, redoblando el llanto a la menor tentativa de caricia. Luego los sollozos fueron retardándose, y aún quedó largo rato escondida en su cuello, sin moverse ni decir una palabra.\n",
        "\n",
        "Fue ese el último día que Alicia estuvo levantada. Al día siguiente amaneció desvanecida. El médico de Jordán la examinó con suma atención, ordenándole calma y descanso absolutos.\n",
        "\n",
        "-No sé -le dijo a Jordán en la puerta de calle, con la voz todavía baja-. Tiene una gran debilidad que no me explico, y sin vómitos, nada… Si mañana se despierta como hoy, llámeme enseguida.\n",
        "\n",
        "Al otro día Alicia seguía peor. Hubo consulta. Constatóse una anemia de marcha agudísima, completamente inexplicable. Alicia no tuvo más desmayos, pero se iba visiblemente a la muerte. Todo el día el dormitorio estaba con las luces prendidas y en pleno silencio. Pasábanse horas sin oír el menor ruido. Alicia dormitaba. Jordán vivía casi en la sala, también con toda la luz encendida. Paseábase sin cesar de un extremo a otro, con incansable obstinación. La alfombra ahogaba sus pasos. A ratos entraba en el dormitorio y proseguía su mudo vaivén a lo largo de la cama, mirando a su mujer cada vez que caminaba en su dirección.\n",
        "\n",
        "Pronto Alicia comenzó a tener alucinaciones, confusas y flotantes al principio, y que descendieron luego a ras del suelo. La joven, con los ojos desmesuradamente abiertos, no hacía sino mirar la alfombra a uno y otro lado del respaldo de la cama. Una noche se quedó de repente mirando fijamente. Al rato abrió la boca para gritar, y sus narices y labios se perlaron de sudor.\n",
        "\n",
        "-¡Jordán! ¡Jordán! -clamó, rígida de espanto, sin dejar de mirar la alfombra.\n",
        "\n",
        "Jordán corrió al dormitorio, y al verlo aparecer Alicia dio un alarido de horror.\n",
        "\n",
        "-¡Soy yo, Alicia, soy yo!\n",
        "\n",
        "Alicia lo miró con extravió, miró la alfombra, volvió a mirarlo, y después de largo rato de estupefacta confrontación, se serenó. Sonrió y tomó entre las suyas la mano de su marido, acariciándola temblando.\n",
        "\n",
        "Entre sus alucinaciones más porfiadas, hubo un antropoide, apoyado en la alfombra sobre los dedos, que tenía fijos en ella los ojos.\n",
        "\n",
        "Los médicos volvieron inútilmente. Había allí delante de ellos una vida que se acababa, desangrándose día a día, hora a hora, sin saber absolutamente cómo. En la última consulta Alicia yacía en estupor mientras ellos la pulsaban, pasándose de uno a otro la muñeca inerte. La observaron largo rato en silencio y siguieron al comedor.\n",
        "\n",
        "-Pst… -se encogió de hombros desalentado su médico-. Es un caso serio… poco hay que hacer…\n",
        "\n",
        "-¡Sólo eso me faltaba! -resopló Jordán. Y tamborileó bruscamente sobre la mesa.\n",
        "\n",
        "Alicia fue extinguiéndose en su delirio de anemia, agravado de tarde, pero que remitía siempre en las primeras horas. Durante el día no avanzaba su enfermedad, pero cada mañana amanecía lívida, en síncope casi. Parecía que únicamente de noche se le fuera la vida en nuevas alas de sangre. Tenía siempre al despertar la sensación de estar desplomada en la cama con un millón de kilos encima. Desde el tercer día este hundimiento no la abandonó más. Apenas podía mover la cabeza. No quiso que le tocaran la cama, ni aún que le arreglaran el almohadón. Sus terrores crepusculares avanzaron en forma de monstruos que se arrastraban hasta la cama y trepaban dificultosamente por la colcha.\n",
        "\n",
        "Perdió luego el conocimiento. Los dos días finales deliró sin cesar a media voz. Las luces continuaban fúnebremente encendidas en el dormitorio y la sala. En el silencio agónico de la casa, no se oía más que el delirio monótono que salía de la cama, y el rumor ahogado de los eternos pasos de Jordán.\n",
        "\n",
        "Alicia murió, por fin. La sirvienta, que entró después a deshacer la cama, sola ya, miró un rato extrañada el almohadón.\n",
        "\n",
        "-¡Señor! -llamó a Jordán en voz baja-. En el almohadón hay manchas que parecen de sangre.\n",
        "\n",
        "Jordán se acercó rápidamente Y se dobló a su vez. Efectivamente, sobre la funda, a ambos lados del hueco que había dejado la cabeza de Alicia, se veían manchitas oscuras.\n",
        "\n",
        "-Parecen picaduras -murmuró la sirvienta después de un rato de inmóvil observación.\n",
        "\n",
        "-Levántelo a la luz -le dijo Jordán.\n",
        "\n",
        "La sirvienta lo levantó, pero enseguida lo dejó caer, y se quedó mirando a aquél, lívida y temblando. Sin saber por qué, Jordán sintió que los cabellos se le erizaban.\n",
        "\n",
        "-¿Qué hay? -murmuró con la voz ronca.\n",
        "\n",
        "-Pesa mucho  -articuló la sirvienta, sin dejar de temblar.\n",
        "\n",
        "Jordán lo levantó; pesaba extraordinariamente. Salieron con él, y sobre la mesa del comedor Jordán cortó funda y envoltura de un tajo. Las plumas superiores volaron, y la sirvienta dio un grito de horror con toda la boca abierta, llevándose las manos crispadas a los bandós. Sobre el fondo, entre las plumas, moviendo lentamente las patas velludas, había un animal monstruoso, una bola viviente y viscosa. Estaba tan hinchado que apenas se le pronunciaba la boca.\n",
        "\n",
        "Noche a noche, desde que Alicia había caído en cama, había aplicado sigilosamente su boca -su trompa, mejor dicho- a las sienes de aquélla, chupándole la sangre. La picadura era casi imperceptible. La remoción diaria del almohadón había impedido sin duda su desarrollo, pero desde que la joven no pudo moverse, la succión fue vertiginosa. En cinco días, en cinco noches, había vaciado a Alicia.\n",
        "\n",
        "Estos parásitos de las aves, diminutos en el medio habitual, llegan a adquirir en ciertas condiciones proporciones enormes. La sangre humana parece serles particularmente favorable, y no es raro hallarlos en los almohadones de pluma.\n",
        "\"\"\"\n",
        "textos = separar_parrafos_regex(HoracioQuiroga)\n",
        "#print(HoracioQuiroga)\n",
        "# Obtener las palabras clave de cada documento\n",
        "# Obtener las palabras clave de cada documento\n",
        "palabras_clave_documentos = extraer_palabras_clave_tfidf(textos)\n",
        "HoracioQuiroga = generar_lista_final(palabras_clave_documentos)\n",
        "\n",
        "print(HoracioQuiroga)"
      ]
    },
    {
      "cell_type": "code",
      "source": [
        "Felisberto = \"\"\"\n",
        "Sin embargo el marido no podía estar en aquella isla; Alcides —el novio de la\n",
        "sobrina de la señora Margarita— me dijo que ella había perdido al marido en un\n",
        "precipicio de Suiza. Y también recordé lo que me contó el botero la noche que\n",
        "llegué a la casa inundada. Él remaba despacio mientras recorríamos «la avenida\n",
        "de agua», del ancho de una calle y bordeada de plátanos con borlitas. Entre\n",
        "otras cosas supe que él y un peón habían llenado de tierra la fuente del patio\n",
        "para que después fuera una isla. Además yo pensaba que los movimientos de la\n",
        "cabeza de la señora Margarita —en las tardes que su mirada iba del libro a la isla\n",
        "y de la isla al libro— no tenían relación con un muerto escondido debajo de las\n",
        "plantas. También es cierto que una vez que la vi de frente tuve la impresión de\n",
        "que los vidrios gruesos de sus lentes les enseñaban a los ojos a disimular y que la\n",
        "gran vidriera terminada en cúpula que cubría el patio y la pequeña isla, era co\n",
        "mo para encerrar el silencio en que se conserva a los muertos.\n",
        "\n",
        "Después recordé que ella no había mandado hacer la vidriera. Y me gusta\n",
        "ba saber que aquella casa, como un ser humano, había tenido que desempeñar\n",
        "diferentes cometidos: primero fue casa de campo; después instituto astronómi\n",
        "co; pero como el telescopio que habían pedido a Norteamérica lo tiraron al fon\n",
        "do del mar los alemanes, decidieron hacer, en aquel patio, un invernáculo; y por\n",
        "último la señora Margarita la compró para inundarla.\n",
        "\n",
        "Ahora, mientras dábamos vuelta a la isla, yo envolvía a esta señora con\n",
        "sospechas que nunca le quedaban bien. Pero su cuerpo inmenso, rodeado de\n",
        "una simplicidad desnuda, me tentaba a imaginar sobre él un pasado tenebroso.\n",
        "Por la noche parecía más grande, el silencio lo cubría como un elefante dormido\n",
        "y a veces ella hacía una carraspera rara, como un suspiro ronco.\n",
        "\n",
        "Yo la había empezado a querer, porque después del cambio brusco que me\n",
        "había hecho pasar de la miseria a esta opulencia, vivía en una tranquilidad gene\n",
        "rosa y ella se prestaba —como prestaría el lomo una elefanta blanca a un viaje\n",
        "ro— para imaginar disparates entretenidos. Además, aunque ella no me pregun\n",
        "taba nada sobre mi vida, en el instante de encontrarnos, levantaba las cejas co\n",
        "mo si se le fueran a volar, y sus ojos, detrás de los vidrios, parecían decir: «¿Qué\n",
        "pasa, hijo mío?».\n",
        "\n",
        "Dígame la verdad, ¿cómo es ella? Al principio a mí me hizo gracia.\n",
        "Después me vino a la memoria una novia que yo había tenido.\n",
        "Cuando yo no la quería acompañar a caminar por la orilla de un arroyo -donde ella se había paseado con el padre cuando él vivía- esa novia mía lloraba silenciosamente.\n",
        "Entonces, aunque yo estaba aburrido de ir siempre por el mismo lado, condescendía.\n",
        "Y pensando en esto se me ocurrió decir a la mujer que ahora tenía al lado: —Ella era una mujer que lloraba a menudo.\n",
        "Esta mujer puso sus manos grandes y un poco coloradas encima de la pollera verde y se rió mientras me decía: —Ustedes siempre creen en las lágrimas de las mujeres\n",
        "\n",
        "Al amanecer fue a ver a solas el agua de la fuente para observar minucio\n",
        "samente lo que había entre el agua y ella. Apenas puso sus ojos sobre el agua se\n",
        "dio cuenta de que por su mirada descendía un pensamiento. (Aquí la señora\n",
        "Margarita dijo estas mismas palabras: «un pensamiento que ahora no importa\n",
        "nombrar», y, después de una larga carraspera, «un pensamiento confuso y como\n",
        "deshecho de tanto estrujarlo». «Se empezó a hundir, lentamente y lo dejé repo\n",
        "sar. De él nacieron reflexiones que mis miradas extrajeron del agua y me llena\n",
        "ron los ojos y el alma. Entonces supe, por primera vez, que hay que cultivar los\n",
        "recuerdos en el agua, que el agua elabora lo que en ella se refleja y que recibe el\n",
        "pensamiento. En caso de desesperación no hay que entregar el cuerpo al agua;\n",
        "hay que entregar a ella el pensamiento; ella lo penetra y él nos cambia el sentido\n",
        "de la vida»). Fueron éstas, aproximadamente, sus palabras.\n",
        "\n",
        "Después se vistió, salió a caminar, vio de lejos un arroyo, y en el primer\n",
        "momento no se acordó de que por los arroyos corría agua —algo del mundo con\n",
        "quien sólo ella podía comunicarse. Al llegar a la orilla, dejó su mirada en la co\n",
        "rriente, y enseguida tuvo la idea, sin embargo, de que esta agua no se dirigía a\n",
        "ella; y que además ésta podía llevarle los recuerdos para un lugar lejano, o gas\n",
        "társelos. Sus ojos la obligaron a atender a una hoja recién caída de un árbol; an\n",
        "duvo un instante en la superficie y en el momento de hundirse la señora Marga\n",
        "rita oyó pasos sordos, como palpitaciones. Tuvo una angustia de presentimien\n",
        "tos imprecisos y la cabeza se le oscureció. Los pasos eran de un caballo que se\n",
        "acercó con una confianza un poco aburrida y hundió los belfos en la corriente;\n",
        "sus dientes parecían agrandados a través de un vidrio que se moviera, y cuando\n",
        "levantó la cabeza el agua chorreaba por los pelos de sus belfos sin perder ningu\n",
        "na dignidad. Entonces pensó en los caballos que bebían el agua del país de ella,\n",
        "y en lo distinta que sería el agua allá.\n",
        "\n",
        "Esa noche, en el comedor del hotel, la señora Margarita se fijaba a cada\n",
        "momento en una de las mujeres que había hablado a gritos cerca de la fuente.\n",
        "\"\"\"\n",
        "\n",
        "textos = separar_parrafos_regex(Felisberto)\n",
        "#print(HoracioQuiroga)\n",
        "# Obtener las palabras clave de cada documento\n",
        "# Obtener las palabras clave de cada documento\n",
        "palabras_clave_documentos = extraer_palabras_clave_tfidf(textos)\n",
        "\n",
        "Felisberto = generar_lista_final(palabras_clave_documentos)\n",
        "print(Felisberto)"
      ],
      "metadata": {
        "colab": {
          "base_uri": "https://localhost:8080/"
        },
        "id": "6c8YV92HneWl",
        "outputId": "71583dd0-94f8-4b6f-f889-9972e660e420"
      },
      "execution_count": null,
      "outputs": [
        {
          "output_type": "stream",
          "name": "stdout",
          "text": [
            "['parecía', 'parecía más', 'para que', 'pasa', 'para encerrar', 'de', 'pasa hijo', 'para inundarla', 'para', 'que', 'la', 'pasos', 'el', 'palpitaciones tuvo', 'pasos sordos', 'palpitaciones', 'pedido', 'palabras un', 'palabras', 'aburrida', 'ojos', 'nunca le', 'una', 'en', 'pedido norteamérica', 'agua', 'obligaron atender', 'los', 'oyó pasos', 'un', 'ojos sobre', 'nunca', 'obligaron', 'novio de', 'no', 'lo', 'pelos', 'pelos de', 'ojos disimular', 'se', 'oyó', 'novia que', 'ojos el', 'norteamérica lo', 'novio', 'de la', 'sus', 'había', 'como', 'novia', 'por', 'pollera', 'con', 'yo', 'las', 'ojos la', 'isla', 'sin', 'noche que', 'precipicio', 'noche', 'me', 'del', 'pensaba', 'después', 'al', 'porque', 'norteamérica', 'margarita', 'prestaba', 'presentimien', 'el agua', 'podía estar', 'aquella', 'sin embargo', 'embargo', 'precipicio de', 'lo que', 'que me', 'la noche', 'entre', 'pensaba que', 'que los', 'de las', 'pero su', 'de sus', 'los ojos', 'silencio', 'el silencio', 'tenido', 'había tenido', 'como un', 'lo tiraron', 'co', 'pero', 'cuerpo', 'porque después', 'prestaba como', 'prestaría el', 'prestaría', 'ella', 'sobre', 'vida', 'por el', 'entonces', 'sus ojos', 'que había', 'margarita dijo', 'pensamiento', 'hay', 'hay que', 'momento', 'de que', 'no se', 'por los', 'tuvo', 'belfos', 'aquella isla', 'podía', 'marido', 'alcides', 'alcides el', 'marido no', 'embargo el', 'en aquella', 'isla alcides', 'el novio', 'el marido', 'no podía', 'estar', 'estar en', 'recordé lo', 'contó el', 'también recordé', 'también', 'botero', 'botero la', 'suiza también', 'suiza', 'contó', 'me contó', 'de suiza', 'recordé', 'el botero', 'manos grandes', 'de agua', 'borlitas', 'del ancho', 'borlitas entre', 'ancho', 'ancho de', 'calle', 'calle bordeada', 'plátanos con', 'plátanos', 'una calle', 'de una', 'agua del', 'bordeada de', 'bordeada', 'con borlitas', 'de plátanos', 'movimientos', 'isla además', 'una isla', 'movimientos de', 'los movimientos', 'que después', 'después fuera', 'además yo', 'además', 'yo pensaba', 'fuera una', 'fuera', 'libro no', 'muerto', 'debajo', 'al libro', 'isla al', 'relación', 'un muerto', 'relación con', 'la isla', 'tenían', 'tenían relación', 'muerto escondido', 'escondido', 'escondido debajo', 'no tenían', 'con un', 'libro', 'debajo de', 'lentes les', 'vidrios gruesos', 'enseñaban', 'enseñaban los', 'sus lentes', 'que la', 'gruesos', 'los vidrios', 'vidrios', 'gruesos de', 'les', 'disimular que', 'disimular', 'les enseñaban', 'lentes', 'mo', 'conserva los', 'se conserva', 'que se', 'mo para', 'muertos', 'los muertos', 'conserva', 'en que', 'encerrar', 'encerrar el', 'silencio en', 'ba', 'casa como', 'casa', 'ser humano', 'ser', 'humano', 'humano había', 'tenido que', 'que desempeñar', 'un ser', 'que aquella', 'saber que', 'saber', 'aquella casa', 'ba saber', 'desempeñar', 'co pero', 'que habían', 'tiraron', 'telescopio que', 'telescopio', 'pero como', 'habían pedido', 'habían', 'al fon', 'el telescopio', 'tiraron al', 'fon', 'como el', 'último la', 'la compró', 'la señora', 'margarita la', 'compró para', 'compró', 'señora margarita', 'señora', 'inundarla', 'último', 'cuerpo inmenso', 'sospechas', 'bien', 'bien pero', 'que nunca', 'rodeado', 'su cuerpo', 'su', 'sospechas que', 'le', 'inmenso rodeado', 'le quedaban', 'quedaban', 'rodeado de', 'quedaban bien', 'inmenso', 'cubría como', 'un elefante', 'elefante dormido', 'elefante', 'por la', 'noche parecía', 'grande el', 'más grande', 'grande', 'silencio lo', 'cubría', 'dormido', 'lo cubría', 'más', 'cambio', 'empezado', 'querer porque', 'la había', 'empezado querer', 'había empezado', 'brusco que', 'cambio brusco', 'del cambio', 'brusco', 'después del', 'querer']\n"
          ]
        }
      ]
    },
    {
      "cell_type": "code",
      "source": [
        "Saramago = \"\"\"\n",
        "Se despertó con la sensación aguda de un sueño degollado y vio delante de sí la superficie cenicienta y helada del cristal, el ojo encuadrado de la madrugada que entraba, lívido, cortado en cruz y escurriendo una transpiración condensada. Pensó que su mujer se había olvidado de correr las cortinas al acostarse y se enfadó: si no consiguiese volver a dormirse ya, acabaría por tener un día fastidiado. Le faltó sin embargo el ánimo para levantarse, para cubrir la ventana: prefirió cubrirse la cara con la sábana y volverse hacia la mujer que dormía, refugiarse en su calor y en el olor de su pelo suelto. Estuvo todavía unos minutos esperando, inquieto, temiendo el insomnio matinal. Pero después le vino la idea del capullo tibio que era la cama y la presencia laberíntica del cuerpo al que se aproximaba y, casi deslizándose en un círculo lento de imágenes sensuales, volvió a caer en el sueño. El ojo ceniciento del cristal se fue azulando poco a poco, mirando fijamente las dos cabezas posadas en la almohada, como restos olvidados de una mudanza a otra casa o a otro mundo. Cuando el despertador sonó, pasadas dos horas, la habitación estaba clara.\n",
        "\n",
        "Dijo a su mujer que no se levantase, que aprovechase un poco más de la mañana, y se escurrió hacia el aire frío, hacia la humedad indefinible de las paredes, de los picaportes de las puertas, de las toallas del cuarto de baño. Fumó el primer cigarrillo mientras se afeitaba y el segundo con el café, que entretanto se había enfriado. Tosió como todas las mañanas. Después se vistió a oscuras, sin encender la luz de la habitación. No quería despertar a su mujer. Un olor fresco a agua de colonia avivó la penumbra, y eso hizo que la mujer suspirase de placer cuando el marido se inclinó sobre la cama para besarle los ojos cerrados. Y susurró que no volvería a comer a casa.\n",
        "\n",
        "Cerró la puerta y bajó rápidamente la escalera. La finca parecía más silenciosa que de costumbre. Tal vez por la niebla, pensó. Se había dado cuenta de que la niebla era como una campana que ahogaba los sonidos y los transformaba, disolviéndolos, haciendo de ellos lo que hacía con las imágenes. Había niebla. En el último tramo de la escalera ya podría ver la calle y saber si había acertado. Al final había una luz aún grisácea, pero dura y brillante, de cuarzo. En el bordillo de la acera, una gran rata muerta. Y mientras encendía el tercer cigarrillo, detenido en la puerta, pasó un chico embozado, con gorra, que escupió por encima del animal, como le habían enseñado y siempre veía hacer.\n",
        "\n",
        "El automóvil estaba cinco casas más abajo. Una gran suerte haber podido dejarlo allí. Había adquirido la superstición de que el peligro de que lo robasen sería mayor cuanto más lejos lo hubiese dejado por la noche. Sin haberlo dicho nunca en voz alta, estaba convencido de que no volvería a ver el coche si lo dejase en cualquier extremo de la ciudad. Allí, tan cerca, tenía confianza. El automóvil aparecía cubierto de gotitas, los cristales cubiertos de humedad. Si no hiciera tanto frío, podría decirse que transpiraba como un cuerpo vivo. Miró los neumáticos según su costumbre, verificó de paso que la antena no estuviese partida y abrió la puerta. El interior del coche estaba helado. Con los cristales empañados era una caverna translúcida hundida bajo un diluvio de agua. Pensó que habría sido mejor dejar el coche en un sitio desde el cual pudiese hacerlo deslizarse para arrancar más fácilmente. Encendió el coche y en el mismo instante el motor roncó fuerte, con una sacudida profunda e impaciente. Sonrió, satisfecho de gusto. El día empezaba bien.\n",
        "\n",
        "Calle arriba el automóvil arrancó, rozando el asfalto como un animal de cascos, triturando la basura esparcida. El cuentakilómetros dio un salto repentino a noventa, velocidad de suicidio en la calle estrecha bordeada de coche aparcados. ¿Qué sería? Retiró el pie del acelerador, inquieto. Casi diría que le habían cambiado el motor por otro más potente. Pisó con cuidado el acelerador y dominó el coche. Nada de importancia. A veces no se controla bien el balanceo del pie. Basta que el tacón del zapato no asiente en el lugar habitual para que se altere el movimiento y la presión. Es fácil.\n",
        "\n",
        "Distraído con el incidente, aún no había mirado el contador de la gasolina. ¿La habrían robado durante la noche, como no sería la primera vez? No. El puntero indicaba precisamente medio depósito. Paró en un semáforo rojo, sintiendo el coche vibrante y tenso en sus manos. Curioso. Nunca había reparado en esta especie de palpitación animal que recorría en olas las láminas de la carrocería y le hacía estremecer el vientre. Con la luz verde el automóvil pareció serpentear, estirarse como un fluido para sobrepasar a los que estaban delante. Curioso. Pero, en verdad, siempre se había considerado mucho mejor conductor que los demás. Cuestión de buena disposición esta agilidad de reflejos de hoy, quizá excepcional. Medio depósito. Si encontrase una gasolinera funcionando, aprovecharía. Por seguridad, con todas las vueltas que tenía que dar ese día antes de ir a la oficina, mejor de más que de menos. Este estúpido embargo. El pánico, las horas de espera, en colas de decenas y decenas de coches. Se dice que la industria va a sufrir las consecuencias. Medio depósito. Otros andan a esta hora con mucho menos, pero si fuese posible llenarlo… El coche tomó una curva balanceándose y, con el mismo movimiento, se lanzó por una subida empinada sin esfuerzo. Allí cerca había un surtidor poco conocido, tal vez tuviese suerte. Como un perdiguero que acude al olor, el coche se insinuó entre el tráfico, dobló dos esquinas y fue a ocupar un lugar en la cola que esperaba. Buena idea.\n",
        "\n",
        "Miró el reloj. Debían de estar por delante unos veinte coches. No era ninguna exageración. Pero pensó que lo mejor sería ir primero a la oficina y dejar las vueltas para la tarde, ya lleno el depósito, sin preocupaciones. Bajó el cristal para llamar a un vendedor de periódicos que pasaba. El tiempo había enfriado mucho. Pero allí, dentro del automóvil, con el periódico abierto sobre el volante, fumando mientras esperaba, hacía un calor agradable, como el de sábanas. Hizo que se movieran los músculos de la espalda, con una torsión de gato voluptuoso, al acordarse de su mujer aún enroscada en la cama a aquella hora y se recostó mejor en el asiento. El periódico no prometía nada bueno. El embargo se mantenía. Una Navidad oscura y fría, decía uno de los titulares. Pero él aún disponía de medio depósito y no tardaría en tenerlo lleno. El automóvil de delante avanzó un poco. Bien.\n",
        "\n",
        "Hora y media más tarde estaba llenándolo y tres minutos después arrancaba. Un poco preocupado porque el empleado le había dicho, sin ninguna expresión particular en la voz, de tan repetida la información, que no habría allí gasolina antes de quince días. En el asiento, al lado, el periódico anunciaba restricciones rigurosas. En fin, de lo malo malo, el depósito estaba lleno. ¿Qué haría? ¿Ir directamente a la oficina o pasar primero por casa de un cliente, a ver si le daban el pedido? Escogió el cliente. Era preferible justificar el retraso con la visita que tener que decir que había pasado hora y media en la cola de la gasolina cuando le quedaba medio depósito. El coche estaba espléndido. Nunca se había sentido tan bien conduciéndolo. Encendió la radio y se oyó un diario hablado. Noticias cada vez peores. Estos árabes. Este estúpido embargo.\n",
        "\n",
        "De repente el coche dio una cabezada y se dirigió a la calle de la derecha hasta parar en una cola de automóviles menor que la primera. ¿Qué había sido eso? Tenía el depósito lleno, sí, prácticamente lleno. Por qué este demonio de idea. Movió la palanca de las velocidades para poner marcha atrás, pero la caja de cambios no le obedeció. Intentó forzarla, pero los engranajes parecían bloqueados. Qué disparate. Ahora una avería. El automóvil de delante avanzó. Recelosamente, contando con lo peor, metió la primera. Perfecto todo. Suspiró de alivio. Pero ¿cómo estaría la marcha atrás cuando volviese a necesitarla?\n",
        "\n",
        "Cerca de media hora después ponía medio litro de gasolina en el depósito, sintiéndose ridículo bajo la mirada desdeñosa del empleado de la gasolinera. Dio una propina absurdamente alta y arrancó con un gran ruido de neumáticos y aceleramientos. Qué demonio de idea. Ahora el cliente, o será una mañana perdida. El coche estaba mejor que nunca. Respondía a sus movimientos como si fuese una prolongación mecánica de su propio cuerpo. Pero el caso de la marcha atrás daba que pensar. Y he aquí que tuvo realmente que pensarlo. Una gran camioneta averiada tapaba todo el centro de la calle. No podía contornearla, no había tenido tiempo, estaba pegado a ella. Otra vez con miedo movió la palanca y la marcha atrás entró con un ruido suave de succión. No se acordaba que la caja de cambios hubiese reaccionado de esa manera antes. Giró el volante hacia la izquierda, aceleró y con un suave movimiento el automóvil subió a la acera, pegado a la camioneta, y salió por el otro lado, suelto, con una agilidad de animal. El demonio de coche tenía siete vidas. Tal vez por causa de toda esa confusión del embargo, todo ese pánico, los servicios desorganizados hubiesen hecho meter en los surtidores gasolina de mucho mayor potencia. Tendría gracia.\n",
        "\n",
        "Miró el reloj. ¿Valdría la pena visitar al cliente? Con suerte encontraría el establecimiento aún abierto. Si el tránsito ayudase, sí, si el tránsito ayudase tendría tiempo. Pero el tránsito no ayudó. En época navideña, incluso faltando la gasolina, todo el mundo sale a la calle, para estorbar a quien necesita trabajar. Y al ver una transversal descongestionada desistió de visitar al cliente. Mejor sería dar cualquier explicación en la oficina y dejarlo para la tarde. Con tantas dudas, se había desviado mucho del centro. Gasolina quemada sin provecho. En fin, el depósito estaba lleno. En una plaza, al fondo de la calle por la que bajaba, vio otra cola de automóviles esperando su turno. Sonrió de gozo y aceleró, decidido a pasar resoplando contra los ateridos automovilistas que esperaban. Pero el coche, a veinte metros, tiró hacia la izquierda, por sí mismo, y se detuvo, suavemente, como si suspirase, al final de la cola. ¿Qué diablos había sido aquello, si no había decidido poner más gasolina? ¿Qué diantre era, si tenía el depósito lleno? Se quedó mirando los diversos contadores, palpando el volante, costándole reconocer el coche, y en esta sucesión de gestos movió el retrovisor y se miró en el espejo. Vio que estaba perplejo y consideró que tenía razón. Otra vez por el retrovisor distinguió un automóvil que bajaba la calle, con todo el aire de irse a colocar en la fila. Preocupado por la idea de quedarse allí inmovilizado, cuando tenía el depósito lleno, movió rápidamente la palanca para dar marcha atrás. El coche resistió y la palanca le huyó de las manos. Un segundo después se encontraba aprisionado entre sus dos vecinos. Diablos. ¿Qué tendría el coche? Necesitaba llevarlo al taller. Una marcha atrás que funcionaba ahora sí y ahora no es un peligro.\n",
        "\n",
        "Había pasado más de veinte minutos cuando hizo avanzar el coche hasta el surtidor. Vio acercarse al empleado y la voz se le estranguló al pedir que llenase el depósito. En ese mismo instante hizo una tentativa por huir de la vergüenza, metió una rápida primera y arrancó. En vano. El coche no se movió. El hombre de la gasolinera lo miró desconfiado, abrió el depósito y, pasados pocos segundos, fue a pedirle el dinero de un litro que guardó refunfuñando. Acto seguido, la primera entraba sin ninguna dificultad y el coche avanzaba, elástico, respirando pausadamente. Alguna cosa no iría bien en el automóvil, en los cambios, en el motor, en cualquier sitio, el diablo sabrá. ¿O estaría perdiendo sus cualidades de conductor? ¿O estaría enfermo? Había dormido bien a pesar de todo, no tenía más preocupaciones que en cualquier otro día de su vida. Lo mejor sería desistir por ahora de clientes, no pensar en ellos durante el resto del día y quedarse en la oficina. Se sentía inquieto. A su alrededor las estructuras del coche vibraban profundamente, no en la superficie, sino en el interior del acero, y el motor trabajaba con aquel rumor inaudible de pulmones llenándose y vaciándose, llenándose y vaciándose. Al principio, sin saber por qué, dio en trazar mentalmente un itinerario que le apartase de otras gasolineras, y cuando notó lo que hacía se asustó, temió no estar bien de la cabeza. Fue dando vueltas, alargando y acortando camino, hasta que llegó delante de la oficina. Pudo aparcar el coche y suspiró de alivio. Apagó el motor, sacó la llave y abrió la puerta. No fue capaz de salir.\n",
        "\n",
        "Creyó que el faldón de la gabardina se había enganchado, que la pierna había quedado sujeta por el eje del volante, e hizo otro movimiento. Incluso buscó el cinturón de seguridad, para ver si se lo había puesto sin darse cuenta. No. El cinturón estaba colgando de un lado, tripa negra y blanda. Qué disparate, pensó. Debo estar enfermo. Si no consigo salir es porque estoy enfermo. Podía mover libremente los brazos y las piernas, flexionar ligeramente el tronco de acuerdo con las maniobras, mirar hacia atrás, inclinarse un poco hacia la derecha, hacia la guantera, pero la espalda se adhería al respaldo del asiento. No rígidamente, sino como un miembro se adhiere al cuerpo. Encendió un cigarrillo y, de repente, se preocupó por lo que diría el jefe si se asomase a una ventana y lo viese allí instalado, dentro del coche, fumando, sin ninguna prisa por salir. Un toque violento de claxon lo hizo cerrar la puerta, que había abierto hacia la calle. Cuando el otro coche pasó, dejó lentamente abrirse la puerta otra vez, tiró el cigarrillo fuera y, agarrándose con ambas manos al volante, hizo un movimiento brusco, violento. Inútil. Ni siquiera sintió dolores. El respaldo del asiento lo sujetó dulcemente y lo mantuvo preso. ¿Qué era lo que estaba sucediendo? Movió hacia abajo el retrovisor y se miró. Ninguna diferencia en la cara. Tan sólo una aflicción imprecisa que apenas se dominaba. Al volver la cara hacia la derecha, hacia la acera, vio a una niñita mirándolo, al mismo tiempo intrigada y divertida. A continuación surgió una mujer con un abrigo de invierno en las manos, que la niña se puso, sin dejar de mirar. Y las dos se alejaron, mientras la mujer arreglaba el cuello y el pelo de la niña.\n",
        "\n",
        "Volvió a mirar el espejo y adivinó lo que debía hacer. Pero no allí. Había personas mirando, gente que lo conocía. Maniobró para separarse de la acera, rápidamente, echando mano a la puerta para cerrarla, y bajó la calle lo más deprisa que podía. Tenía un designio, un objetivo muy definido que ya lo tranquilizaba, y tanto que se dejó ir con una sonrisa que a poco le suavizó la aflicción.\n",
        "\n",
        "Sólo reparó en la gasolinera cuando casi iba a pasar por delante. Tenía un letrero que decía “agotada”, y el coche siguió, sin una mínima desviación, sin disminuir la velocidad. No quiso pensar en el coche. Sonrió más. Estaba saliendo de la ciudad, eran ya los suburbios, estaba cerca el sitio que buscaba. Se metió por una calle en construcción, giró a la izquierda y a la derecha, hasta un sendero desierto, entre vallas. Empezaba a llover cuando detuvo el automóvil.\n",
        "\n",
        "Su idea era sencilla. Consistía en salir de dentro de la gabardina, sacando los brazos y el cuerpo, deslizándose fuera de ella, tal como hace la culebra cuando abandona la piel. Delante de la gente no se habría atrevido, pero allí, solo, con un desierto alrededor, lejos de la ciudad que se escondía por detrás de la lluvia, nada más fácil. Se había equivocado, sin embargo. La gabardina se adhería al respaldo del asiento, de la misma manera que a la chaqueta, a la chaqueta de punto, a la camisa, a la camiseta interior, a la piel, a los músculos, a los huesos. Fue esto lo que pensó sin pensarlo cuando diez minutos después se retorcía dentro del coche gritando, llorando. Desesperado. Estaba preso en el coche. Por más que girase el cuerpo hacia fuera, hacia la abertura de la puerta por donde la lluvia entraba empujada por ráfagas súbitas y frías, por más que afirmase los pies en el saliente de la caja de cambios, no conseguía arrancarse del asiento. Con las dos manos se cogió al techo e intentó levantarse. Era como si quisiese levantar el mundo. Se echó encima del volante, gimiendo, aterrorizado. Ante sus ojos los limpiaparabrisas, que sin querer había puesto en movimiento en medio de la agitación, oscilaban con un ruido seco, de metrónomo. De lejos le llegó el pitido de una fábrica. Y a continuación, en la curva del camino, apareció un hombre pedaleando una bicicleta, cubierto con un gran pedazo de plástico negro por el cual la lluvia escurría como sobre la piel de una foca. El hombre que pedaleaba miró con curiosidad dentro del coche y siguió, quizá decepcionado o intrigado al ver a un hombre solo y no la pareja que de lejos le había parecido.\n",
        "\n",
        "Lo que estaba pasando era absurdo. Nunca nadie se había quedado preso de esta manera en su propio coche, por su propio coche. Tenía que haber un procedimiento cualquiera para salir de allí. A la fuerza no podía ser. ¿Tal vez en un taller? No. ¿Cómo lo explicaría? ¿Llamar a la policía? ¿Y después? Se juntaría la gente, todos mirando, mientras la autoridad evidentemente tiraría de él por un brazo y pediría ayuda a los presentes, y sería inútil, porque el respaldo del asiento dulcemente lo sujetaría. E irían los periodistas, los fotógrafos y sería exhibido dentro de su coche en todos los periódicos del día siguiente, lleno de vergüenza como un animal trasquilado, en la lluvia. Tenía que buscarse otra forma. Apagó el motor y sin interrumpir el gesto se lanzó violentamente hacia fuera, como quien ataca por sorpresa. Ningún resultado. Se hirió en la frente y en la mano izquierda, y el dolor le causó un vértigo que se prolongó, mientras una súbita e irreprimible ganas de orinar se expandía, liberando interminable el líquido caliente que se vertía y escurría entre las piernas al suelo del coche. Cuando sintió todo esto empezó a llorar bajito, con un gañido, miserablemente, y así estuvo hasta que un perro escuálido, llegado de la lluvia, fue a ladrarle, sin convicción, a la puerta del coche.\n",
        "\n",
        "Embragó despacio, con los movimientos pesados de un sueño de las cavernas, y avanzó por el sendero, esforzándose en no pensar, en no dejar que la situación se le representase en el entendimiento. De un modo vago sabía que tendría que buscar a alguien que lo ayudase. Pero ¿quién podía ser? No quería asustar a su mujer, pero no quedaba otro remedio. Quizá ella consiguiese descubrir la solución. Al menos no se sentiría tan desgraciadamente solo.\n",
        "\n",
        "Volvió a entrar en la ciudad, atento a los semáforos, sin movimientos bruscos en el asiento, como si quisiese apaciguar los poderes que lo sujetaban. Eran más de las dos y el día había oscurecido mucho. Vio tres gasolineras, pero el coche no reaccionó. Todas tenían el letrero de “agotada”. A medida que penetraba en la ciudad, iba viendo automóviles abandonados en posiciones anormales, con los triángulos rojos colocados en la ventanilla de atrás, señal que en otras ocasiones sería de avería, pero que significaba, ahora, casi siempre, falta de gasolina. Dos veces vio grupos de hombres empujando automóviles encima de las aceras, con grandes gestos de irritación, bajo la lluvia que no había parado todavía.\n",
        "\n",
        "Cuando finalmente llegó a la calle donde vivía, tuvo que imaginarse cómo iba a llamar a su mujer. Detuvo el coche enfrente del portal, desorientado, casi al borde de otra crisis nerviosa. Esperó que sucediese el milagro de que su mujer bajase por obra y merecimiento de su silenciosa llamada de socorro. Esperó muchos minutos, hasta que un niño curioso de la vecindad se aproximó y pudo pedirle, con el argumento de una moneda, que subiese al tercer piso y dijese a la señora que allí vivía que su marido estaba abajo esperándola, en el coche. Que acudiese deprisa, que era muy urgente. El niño subió y bajó, dijo que la señora ya venía y se apartó corriendo, habiendo hecho el día.\n",
        "\n",
        "La mujer bajó como siempre andaba en casa, ni siquiera se había acordado de coger un paraguas, y ahora estaba en el umbral, indecisa, desviando sin querer los ojos hacia una rata muerta en el bordillo de la acera, hacia la rata blanda, con el pelo erizado, dudando en cruzar la acera bajo la lluvia, un poco irritada contra el marido que la había hecho bajar sin motivo, cuando podía muy bien haber subido a decirle lo que quería. Pero el marido llamaba con gestos desde dentro del coche y ella se asustó y corrió. Puso la mano en el picaporte, precipitándose para huir de la lluvia, y cuando por fin abrió la puerta vio delante de su rostro la mano del marido abierta, empujándola sin tocarla. Porfió y quiso entrar, pero él le gritó que no, que era peligroso, y le contó lo que sucedía, mientras ella, inclinada, recibía en la espalda toda la lluvia que caía y el pelo se le desarreglaba y el horror le crispaba toda la cara. Y vio al marido, en aquel capullo caliente y empañado que lo aislaba del mundo, retorciéndose entero en el asiento para salir del coche sin conseguirlo. Se atrevió a cogerlo por el brazo y tiró, incrédula, y tampoco pudo moverlo de allí. Como aquello era demasiado horrible para ser creído, se quedaron callados mirándose, hasta que ella pensó que su marido estaba loco y fingía no poder salir. Tenía que ir a llamar a alguien para que lo examinase, para llevarlo a donde se tratan las locuras. Cautelosamente, con muchas palabras, le dijo a su marido que esperase un poquito, que no tardaría, iba a buscar ayuda para que saliese, y así incluso podían comer juntos y ella llamaría a la oficina diciendo que estaba acatarrado. Y no iría a trabajar por la tarde. Que se tranquilizase, el caso no tenía importancia, que no tardaba nada.\n",
        "\n",
        "Pero, cuando ella desapareció en la escalera, volvió a imaginarse rodeado de gente, la fotografía en los periódicos, la vergüenza de haberse orinado por las piernas abajo, y esperó todavía unos minutos. Y mientras arriba su mujer hacía llamadas telefónicas a todas partes, a la policía, al hospital, luchando para que creyesen en ella y no en su voz, dando su nombre y el de su marido, y el color del coche, y la marca, y la matrícula, él no pudo aguantar la espera y las imaginaciones, y encendió el motor. Cuando la mujer volvió a bajar, el automóvil ya había desaparecido y la rata se había escurrido del bordillo de la acera, por fin, y rodaba por la calle inclinada, arrastrada por el agua que corría de los desagües. La mujer gritó, pero las personas tardaron en aparecer y fue muy difícil de explicar.\n",
        "\n",
        "Hasta el anochecer el hombre circuló por la ciudad, pasando ante gasolineras sin existencias, poniéndose en colas de espera sin haberlo decidido, ansioso porque el dinero se le acababa y no sabía lo que podía suceder cuando no tuviese más dinero y el automóvil parase al lado de un surtidor para recibir más gasolina. Eso no sucedió, simplemente, porque todas las gasolineras empezaron a cerrar y las colas de espera que aún se veían tan sólo aguardaban el día siguiente, y entonces lo mejor era huir para no encontrar gasolineras aún abiertas, para no tener que parar. En una avenida muy larga y ancha, casi sin otro tránsito, un coche de la policía aceleró y le adelantó y, cuando le adelantaba, un guardia le hizo señas para que se detuviese. Pero tuvo otra vez miedo y no paró. Oyó detrás de sí la sirena de la policía y vio también, llegado de no sabía dónde, un motociclista uniformado casi alcanzándolo. Pero el coche, su coche, dio un ronquido, un arranque poderoso, y salió, de un salto, hacia delante, hacia el acceso a una autopista. La policía lo seguía de lejos, cada vez más de lejos, y cuando la noche cerró no había señales de ellos y el automóvil rodaba por otra carretera.\n",
        "\n",
        "Sentía hambre. Se había orinado otra vez, demasiado humillado para avergonzarse,. Y deliraba un poco: humillado, humillado. Iba declinando sucesivamente alternando las consonantes y las vocales, en un ejercicio inconsciente y obsesivo que lo defendía de la realidad. No se detenía porque no sabía para qué iba a parar. Pero, de madrugada, por dos veces, aproximó el coche al bordillo e intentó salir despacito, como si mientras tanto el coche y él hubiesen llegado a un acuerdo de paces y fuese el momento de dar la prueba de buena fe de cada uno. Dos veces habló bajito cuando el asiento lo sujetó, dos veces intentó convencer al automóvil para que lo dejase salir por las buenas, dos veces en el descampado nocturno y helado donde la lluvia no paraba, explotó en gritos, en aullidos, en lágrimas, en ciega desesperación. Las heridas de la cabeza y de la mano volvieron a sangrar. Y sollozando, sofocado, gimiendo como un animal aterrorizado, continuó conduciendo el coche. Dejándose conducir.\n",
        "\n",
        "Toda la noche viajó, sin saber por dónde. Atravesó poblaciones de las que no vio el nombre, recorrió largas rectas, subió y bajó montes, hizo y deshizo lazos y desenlazos de curvas, y cuando la mañana empezó a nacer estaba en cualquier parte, en una carretera arruinada, donde el agua de lluvia se juntaba en charcos erizados en la superficie. El motor roncaba poderosamente, arrancando las ruedas al lodo, y toda la estructura del coche vibraba, con un sonido inquietante. La mañana abrió por completo, sin que el sol llegara a mostrarse, pero la lluvia se detuvo de repente. La carretera se transformaba en un simple camino que adelante, a cada momento, parecía perderse entre piedras. ¿Dónde estaba el mundo? Ante los ojos estaba la sierra y un cielo asombrosamente bajo. Dio un grito y golpeó con los puños cerrado el volante. Fue en ese momento cuando vio que el puntero del depósito de gasolina estaba encima de cero. El motor pareció arrancarse a sí mismo y arrastró el coche veinte metros más. La carretera aparecía otra vez más allá, pero la gasolina se había acabado.\n",
        "\n",
        "La frente se le cubrió de sudor frío. Una náusea se apoderó de él y lo sacudió de la cabeza a los pies, un velo le cubrió tres veces los ojos. A tientas, abrió la puerta para liberarse de la sofocación que le llegaba y, con ese movimiento, porque fuese a morir o porque el motor se había muerto, el cuerpo colgó hacia el lado izquierdo y se escurrió del coche. Se escurrió un poco más y quedó echado sobre las piedras. La lluvia había empezado a caer de nuevo.\n",
        "\n",
        "Si pudiera creer todavía en algo, creería en la posibilidad del horror, aunque sin perder de vista que no se trata de una posibilidad necesaria, en todo caso no más remota que la posibilidad de la felicidad. Hemos entrado en la región más inhabitada y más inhóspita de las tinieblas, pero allí, precisamente allí, es donde habremos de buscar la luz, una luz diferente, apenas una débil rendija, por donde puedan entrar, los unos para los otros, palabras de amistad, de amor, de esperanza.\n",
        "\n",
        "La muerte es una enfermedad crónica, incurable, que se transmite desde el momento del nacimiento, eso es un hecho. Lo que faltaba saber, y ahora ya se sabe, es que es una enfermedad contagiosa. No, no ha sido un descubrimiento reciente, la muerte es contagiosa desde el principio del mundo, lo que pasa es que últimamente ha tenido un verdadero brote epidémico. Las enfermedades contagiosas siempre han existido, pero esta es la única enfermedad verdaderamente democrática y universal, ya que afecta por igual a todas las razas y a todas las clases sociales.\n",
        "\n",
        "El poder, cualquier poder, es siempre un gran enmascarador, un gran fingidor. El poder es un comediante nato, un hipócrita de nacimiento. El poder siempre se ha vestido con las mejores ropas que ha encontrado en el ropero de la historia, se ha adornado con las joyas más valiosas que ha encontrado en el joyero de la fantasía, se ha perfumado con los perfumes más caros que ha encontrado en la perfumería de la mentira.\n",
        "\n",
        "El amor es una especie de locura, con la diferencia de que no es una enfermedad, sino una forma de ser, de estar, de existir. El amor es una fuerza natural, no una enfermedad natural. Cuántas fuerzas naturales no son locuras cuando se manifiestan en toda su plenitud. El amor es una fuerza tan poderosa como la misma vida, es la vida misma en su expresión más alta, más pura, más sublime.\n",
        "\"\"\"\n",
        "\n",
        "textos = separar_parrafos_regex(Saramago)\n",
        "#print(HoracioQuiroga)\n",
        "# Obtener las palabras clave de cada documento\n",
        "palabras_clave_documentos = extraer_palabras_clave_tfidf(textos)\n",
        "\n",
        "Saramago = generar_lista_final(palabras_clave_documentos)\n",
        "print(Saramago)"
      ],
      "metadata": {
        "colab": {
          "base_uri": "https://localhost:8080/"
        },
        "id": "O4VwBGWprCZN",
        "outputId": "ebd4281a-03e9-4420-e50b-c0ff17c79184"
      },
      "execution_count": null,
      "outputs": [
        {
          "output_type": "stream",
          "name": "stdout",
          "text": [
            "['la', 'el', 'de', 'que', 'en', 'se', 'un', 'del', 'una', 'coche', 'lo', 'su', 'le', 'lleno', 'no', 'estaba', 'sin', 'lluvia', 'dos', 'pelo suelto', 'había', 'pasó un', 'en el', 'calle', 'movimiento', 'velocidad', 'depósito', 'aún', 'pero', 'automóvil', 'pasaba el', 'pasaba', 'qué', 'parecían bloqueados', 'si', 'al', 'el coche', 'gasolina', 'tenía', 'hacia', 'pasar por', 'pensar en', 'cuando', 'pasar', 'los', 'la lluvia', 'en la', 'vio', 'penetraba', 'penetraba en', 'para', 'toda la', 'toda', 'pelo', 'más', 'parte en', 'parte', 'del cristal', 'el ojo', 'ojo', 'con la', 'sueño', 'cristal', 'poco', 'mujer', 'por tener', 'todavía unos', 'para levantarse', 'para cubrir', 'transpiración condensada', 'tibio que', 'tibio', 'ojo ceniciento', 'ojo encuadrado', 'mudanza', 'matinal', 'tener un', 'olor', 'mujer que', 'temiendo', 'niebla', 'la niebla', 'escalera', 'la escalera', 'la puerta', 'puerta', 'los transformaba', 'tercer', 'pensó se', 'pero dura', 'los sonidos', 'muerta mientras', 'luz aún', 'tercer cigarrillo', 'niebla en', 'niebla era', 'podría', 'niebla pensó', 'mientras encendía', 'podría ver', 'por encima', 'parecía más', 'más silenciosa', 'como', 'muerta', 'de ellos', 'acelerador', 'pie', 'lugar habitual', 'triturando la', 'triturando', 'lugar', 'por otro', 'noventa', 'noventa velocidad', 'otro más', 'motor por', 'movimiento la', 'nada de', 'más potente', 'pisó', 'pisó con', 'pie basta', 'no asiente', 'pie del', 'inquieto', 'le habían', 'salto', 'no se', 'habían', 'diría', 'importancia', 'lleno el', 'periódico', 'el periódico', 'mejor', 'delante', 'músculos', 'tarde ya', 'tiempo había', 'tenerlo lleno', 'oficina dejar', 'tenerlo', 'navidad oscura', 'mujer aún', 'navidad', 'movieran', 'oscura', 'mucho pero', 'movieran los', 'titulares', 'titulares pero', 'primera', 'la primera', 'marcha', 'marcha atrás', 'atrás', 'obedeció', 'poner marcha', 'metió la', 'por qué', 'obedeció intentó', 'peor', 'pero los', 'lleno sí', 'pero cómo', 'menor', 'lleno por', 'peor metió', 'palanca de', 'menor que', 'necesitarla', 'los engranajes', 'lo peor', 'no le', 'parecían', 'perfecto todo', 'perfecto', 'movió la', 'el tránsito', 'tránsito', 'el depósito', 'visitar al', 'visitar', 'si el', 'diablos', 'dar', 'tendría', 'tránsito ayudase', 'todo el', 'cliente', 'al cliente', 'ayudase', 'que bajaba', 'bajaba', 'sí', 'la calle', 'palanca', 'hacia la', 'hizo', 'la niña', 'cinturón', 'si se', 'enfermo', 'el cinturón', 'mirar', 'derecha hacia', 'violento', 'niña', 'volante hizo', 'respaldo del', 'del asiento', 'manos', 'cigarrillo', 'ninguna', 'respaldo', 'derecha', 'la derecha', 'cara', 'pensar', 'llover cuando', 'por una', 'más estaba', 'los suburbios', 'mínima', 'mínima desviación', 'metió por', 'llover', 'no quiso', 'tenía un', 'sonrió', 'la izquierda', 'decía', 'metió', 'derecha hasta', 'letrero', 'agotada', 'por delante', 'quiso', 'eran', 'propio coche', 'propio', 'su propio', 'todos', 'tenía que', 'del coche', 'sería', 'mientras', 'que se', 'por', 'trasquilado en', 'lluvia tenía', 'lo sujetaría', 'policía después', 'los fotógrafos', 'podía ser', 'los periodistas', 'trasquilado', 'por un', 'ciudad', 'la ciudad', 'automóviles', 'de las', 'tenían el', 'triángulos', 'todas tenían', 'ocasiones sería', 'ocasiones', 'movimientos', 'movimientos bruscos', 'triángulos rojos', 'medida', 'medida que', 'pero que', 'oscurecido', 'mucho vio', 'tenían', 'oscurecido mucho', 'otras', 'tres', 'otras ocasiones', 'tres gasolineras', 'los triángulos', 'marido', 'ella', 'que no', 'su marido', 'marido que', 'el marido', 'el pelo', 'mano', 'la mano', 'rata', 'salir', 'que lo', 'acera', 'la acera', 'para que', 'gasolineras', 'policía']\n"
          ]
        }
      ]
    },
    {
      "cell_type": "code",
      "source": [
        "stephanieMayer = \"\"\"\n",
        "Era demasiado verde, un planeta alienígena.\n",
        "Finalmente llegamos al hogar de Charlie. Vivía en una casa pequeña de dos\n",
        "dormitorios que compró con mi madre durante los primeros días de su matrimonio.\n",
        "Ésos fueron los únicos días de su matrimonio, los primeros. Allí, aparcado en la calle\n",
        "delante de una casa que nunca cambiaba, estaba mi nuevo monovolumen, bueno,\n",
        "nuevo para mí. El vehículo era de un rojo desvaído, con guardabarros grandes y\n",
        "redondos y una cabina de aspecto bulboso. Para mi enorme sorpresa, me encantó. No\n",
        "sabía si funcionaría, pero podía imaginarme al volante. Además, era uno de esos\n",
        "modelos de hierro sólido que jamás sufren daños, la clase de coches que ves en un\n",
        "accidente de tráfico con la pintura intacta y rodeado de los trozos del coche\n",
        "extranjero que acaba de destrozar.\n",
        "\n",
        "— ¡Caramba, papá! ¡Me encanta! ¡Gracias!\n",
        "\n",
        "Ahora, el día de mañana parecía bastante menos terrorífico. No me vería en la\n",
        "tesitura de elegir entre andar tres kilómetros bajo la lluvia hasta el instituto o dejar\n",
        "que el jefe de policía me llevara en el coche patrulla.\n",
        "\n",
        "—Me alegra que te guste —dijo Charlie con voz áspera, nuevamente\n",
        "avergonzado.\n",
        "\n",
        "Subir todas mis cosas hasta el primer piso requirió un solo viaje escaleras arriba.\n",
        "Tenía el dormitorio de la cara oeste, el que daba al patio delantero. Conocía bien la\n",
        "habitación; había sido la mía desde que nací. El suelo de madera, las paredes\n",
        "pintadas de azul claro, el techo a dos aguas, las cortinas de encaje ya amarillentas\n",
        "flanqueando las ventanas... Todo aquello formaba parte de mi infancia. Los únicos\n",
        "cambios que había introducido Charlie se limitaron a sustituir la cuna por una cama\n",
        "y añadir un escritorio cuando crecí. Encima de éste había ahora un ordenador de\n",
        "segunda mano con el cable del módem grapado al suelo hasta la toma de teléfono\n",
        "más próxima. Mi madre lo había estipulado de ese modo para que estuviéramos en\n",
        "contacto con facilidad. La mecedora que tenía desde niña aún seguía en el rincón.\n",
        "Sólo había un pequeño cuarto de baño en lo alto de las escaleras que debería\n",
        "compartir con Charlie. Intenté no darle muchas vueltas al asunto.\n",
        "Una de las cosas buenas que tiene Charlie es que no se queda revoloteando a tu\n",
        "alrededor. Me dejó sola para que deshiciera mis maletas y me instalara, una hazaña\n",
        "que hubiera sido del todo imposible para mi madre. Resultaba estupendo estar sola,\n",
        "no tener que sonreír ni poner buena cara; fue un respiro que me permitió contemplar\n",
        "a través del cristal la cortina de lluvia con desaliento y derramar algunas lágrimas.\n",
        "No estaba de humor para una gran llantina. Eso podía esperar hasta que me acostara\n",
        "y me pusiera a reflexionar sobre lo que me aguardaba al día siguiente.\n",
        "El aterrador cómputo de estudiantes del instituto de Forks era de tan sólo\n",
        "trescientos cincuenta y siete, ahora trescientos cincuenta y ocho. Solamente en mi\n",
        "clase de tercer año en Phoenix había más de setecientos alumnos. Todos los jóvenes\n",
        "de por aquí se habían criado juntos y sus abuelos habían aprendido a andar juntos.\n",
        "Yo sería la chica nueva de la gran ciudad, una curiosidad, un bicho raro.\n",
        "\n",
        "Aún chispeaba, pero no lo bastante para que me calara mientras buscaba la\n",
        "llave de la casa, que siempre estaba escondida debajo del alero que había junto a la\n",
        "puerta, y cerrara. El ruido de mis botas de agua nuevas resultaba enervante. Añoraba\n",
        "el crujido habitual de la grava al andar. No pude detenerme a admirar de nuevo el\n",
        "vehículo, como deseaba, y me apresuré a escapar de la húmeda neblina que se\n",
        "arremolinaba sobre mi cabeza y se agarraba al pelo por debajo de la capucha.\n",
        "Dentro del monovolumen estaba cómoda y a cubierto. Era obvio que Charlie o\n",
        "Billy debían de haberlo limpiado, pero la tapicería marrón de los asientos aún olía\n",
        "tenuemente a tabaco, gasolina y menta. El coche arrancó a la primera, con gran alivio\n",
        "por mi parte, aunque en medio de un gran estruendo, y luego hizo mucho ruido\n",
        "mientras avanzaba al ralentí. Bueno, un monovolumen tan antiguo debía de tener\n",
        "algún defecto. La anticuada radio funcionaba, un añadido que no me esperaba.\n",
        "Fue fácil localizar el instituto pese a no haber estado antes. El edificio se hallaba,\n",
        "como casi todo lo demás en el pueblo, junto a la carretera. No resultaba obvio que\n",
        "fuera una escuela, sólo me detuve gracias al cartel que indicaba que se trataba del\n",
        "instituto de Forks. Se parecía a un conjunto de esas casas de intercambio en época de\n",
        "vacaciones construidas con ladrillos de color granate. Había tantos árboles y arbustos\n",
        "que a primera vista no podía verlo en su totalidad. ¿Dónde estaba el ambiente de un\n",
        "instituto?, me pregunté con nostalgia. ¿Dónde estaban las alambradas y los\n",
        "detectores de metales?\n",
        "Aparqué frente al primer edificio, encima de cuya entrada había un cartelito\n",
        "que rezaba «Oficina principal». No vi otros coches aparcados allí, por lo que estuve\n",
        "segura de que estaba en zona prohibida, pero decidí que iba a pedir indicaciones en\n",
        "lugar de dar vueltas bajo la lluvia como una tonta. De mala gana salí de la cabina\n",
        "calentita del monovolumen y recorrí un sendero de piedra flanqueado por setos\n",
        "oscuros. Respiré hondo antes de abrir la puerta.\n",
        "\"\"\"\n",
        "\n",
        "textos = separar_parrafos_regex(stephanieMayer)\n",
        "#print(stephanieMayer)\n",
        "# Obtener las palabras clave de cada documento\n",
        "palabras_clave_documentos = extraer_palabras_clave_tfidf(textos)\n",
        "\n",
        "stephanieMayer = generar_lista_final(palabras_clave_documentos)\n",
        "print(stephanieMayer)"
      ],
      "metadata": {
        "id": "3Z5CUB0IHKau",
        "colab": {
          "base_uri": "https://localhost:8080/"
        },
        "outputId": "497d2e2f-856d-48ba-a631-75636b096eb3"
      },
      "execution_count": null,
      "outputs": [
        {
          "output_type": "stream",
          "name": "stdout",
          "text": [
            "['niña', 'ni poner', 'niña aún', 'ni', 'no', 'de', 'no darle', 'módem grapado', 'módem', 'no estaba', 'que', 'no me', 'la', 'más de', 'mi', 'más', 'no podía', 'el', 'mucho ruido', 'abrir', 'en', 'un', 'metales', 'mi enorme', 'mi cabeza', 'mi parte', 'muchas vueltas', 'mucho', 'mi madre', 'una', 'me', 'no pude', 'menos terrorífico', 'mis', 'de la', 'muchas', 'mi nuevo', 'para', 'al', 'mis maletas', 'menos', 'con', 'patio delantero', 'patio', 'parte aunque', 'estaba', 'modelos', 'no resultaba', 'por', 'no tener', 'monovolumen bueno', 'medio', 'medio de', 'los', 'patrulla', 'parte', 'parecía', 'jamás sufren', 'parecía bastante', 'en el', 'se', 'había', 'del', 'no vi', 'gran', 'era', 'su', 'monovolumen', 'casa que', 'nuevo', 'casa', 'para mi', 'cabina', 'modelos de', 'jamás', 'coches', 'clase de', 'clase', 'parecía un', 'me vería', 'jefe de', 'jefe', 'mecedora que', 'tenía', 'cara', 'permitió contemplar', 'permitió', 'pelo por', 'la cuna', 'charlie', 'que había', 'hasta', 'aún', 'vueltas', 'la carretera', 'que me', 'podía', 'forks', 'de forks', 'instituto', 'instituto de', 'otros', 'nueva', 'junto la', 'junto', 'debajo', 'pero', 'de un', 'lo', 'como', 'alienígena', 'demasiado verde', 'demasiado', 'planeta', 'planeta alienígena', 'verde', 'verde un', 'un planeta', 'era demasiado', 'primeros', 'que compró', 'con mi', 'compró con', 'compró', 'los primeros', 'madre', 'madre durante', 'dormitorios', 'dormitorios que', 'de su', 'matrimonio', 'durante', 'durante los', 'días', 'días de', 'su matrimonio', 'primeros días', 'que nunca', 'de una', 'cambiaba', 'bueno', 'estaba mi', 'nuevo monovolumen', 'nunca', 'nunca cambiaba', 'delante de', 'delante', 'una casa', 'cambiaba estaba', 'aspecto bulboso', 'de aspecto', 'aspecto', 'redondos', 'redondos una', 'una cabina', 'enorme sorpresa', 'bulboso', 'bulboso para', 'enorme', 'encantó no', 'me encantó', 'cabina de', 'sorpresa me', 'sorpresa', 'encantó', 'en un', 'daños la', 'daños', 'la clase', 'de coches', 'que jamás', 'que ves', 'sólido que', 'hierro', 'hierro sólido', 'ves', 'ves en', 'sólido', 'coches que', 'sufren daños', 'sufren', 'de hierro', 'extranjero que', 'destrozar', 'acaba', 'acaba de', 'extranjero', 'de destrozar', 'que acaba', 'en la', 'terrorífico no', 'día', 'día de', 'bastante', 'bastante menos', 'mañana', 'mañana parecía', 'vería', 'vería en', 'el día', 'terrorífico', 'ahora el', 'de mañana', 'ahora', 'el jefe', 'coche', 'de policía', 'policía me', 'llevara en', 'policía', 'coche patrulla', 'que el', 'me llevara', 'el coche', 'llevara', 'avergonzado', 'conocía', 'dormitorio', 'delantero', 'delantero conocía', 'oeste el', 'que daba', 'oeste', 'conocía bien', 'al patio', 'tenía el', 'daba al', 'la cara', 'dormitorio de', 'bien', 'bien la', 'el dormitorio', 'el que', 'cara oeste', 'daba', 'pintadas', 'de encaje', 'dos', 'dos aguas', 'cortinas', 'cortinas de', 'techo dos', 'techo', 'amarillentas', 'las cortinas', 'las', 'azul', 'claro', 'de azul', 'claro el', 'azul claro', 'ya amarillentas', 'el techo', 'ya', 'encaje', 'pintadas de', 'aguas', 'aguas las', 'encaje ya', 'una cama', 'cama', 'sustituir', 'sustituir la', 'cuna por', 'cuna', 'por una', 'había introducido', 'limitaron', 'charlie se', 'limitaron sustituir', 'cambios que', 'introducido', 'introducido charlie', 'se limitaron', 'cambios', 'al suelo', 'toma', 'mano con', 'grapado', 'grapado al', 'del módem', 'mano', 'suelo hasta', 'la toma', 'suelo', 'con el', 'hasta la', 'el cable', 'toma de', 'cable', 'cable del', 'segunda mano', 'segunda', 'teléfono', 'de teléfono', 'facilidad la', 'la mecedora', 'contacto', 'desde', 'desde niña']\n"
          ]
        }
      ]
    },
    {
      "cell_type": "code",
      "source": [
        "datasetPrueba = \"\"\"No había visto el auto de \"después\" todavía. Estaba escondido bajo una sabana en el rincón más profundo del garaje de los Cullen. Sabía que la mayoría de la gente habría mirado a hurtadillas hasta ahora, pero realmente no quería saber. (Stephenie Meyer)\n",
        "Los anuncios situaron el usual gran y gordo nudo en mi garganta, las usuales escocidas lágrimas en mis ojos, y estaba contenta de que Edward estuviera fuera cazando este domingo. Si Edward viera mi reacción, sólo lo haría sentir terrible, también. (Stephenie Meyer)\n",
        "Así como el sonido del auto de Charlie anunciaba su regreso, el anillo de repente pesaba cincuenta kilos en mi dedo. Quería meter mi mano izquierda en el bolsillo, o quizás sentarme arriba de ella, \"Deja de moverte nerviosamente, Bella. Por favor trata de recordar que no estas confesando un asesinato aquí\". (Stephenie Meyer)\n",
        "La muerte, cansada de esperar al viejo rabí, ya casi centenario, incansablemente entregado al estudio de los libros de la Ley, se disfrazó de rosa, y fue su nieta, inocente de lo que hacía, quien se la llevó al abuelo, que murió al aspirar el perfume de la flor. (Saramago)\n",
        "Narciso, que hoy se contempla en el agua, deshará mañana con su propia mano la imagen que lo contempla. (Saramago)\n",
        "Me llega una carta. No es la primera vez que alguien me sugiere escribir una novela sobre historias que, por alguna razón, considera merecedoras de ser pasadas al papel. Cuando terminé de leerla, en este caso me sentí como si tuviera la irrecusable obligación de hacerlo, como si algún día hubiese asumido ese compromiso y la carta reclamara el cumplimiento de mi palabra. (Saramago)\n",
        "Había una ciudad que a mí me gustaba visitar en verano. En esa época casi todo un barrio se iba a un balneario cercano. Una de las casas abandonadas era muy antigua; en ella habían instalado un hotel y apenas empezaba el verano la casa se ponía triste, iba perdiendo sus mejores familias y quedaba habitada nada más que por los sirvientes. (Felisberto)\n",
        "De esos días siempre recuerdo las vueltas en un bote alrededor de una pequeña isla de plantas. Cada poco tiempo las cambiaban; pero allí las plantas no se llevaban bien. Yo remaba colocado detrás del cuerpo inmenso de la señora Margarita. Si ella miraba la isla un rato largo, era posible que me dijera algo; pero no lo que me había prometido; sólo hablaba de las plantas y parecía que quisiera esconder entre ellas otros pensamientos. (Felisberto)\n",
        "También recordaba que otra tarde que pensaba en un detalle de su historia, el gerente de la casa le había echado en cara la distracción con que trabajaba. Pero su espíritu le borraba esos feos recuerdos, apenas le venían, y él seguía pensando en lo que le hacía tan feliz y en lo que tan torpe le hizo no bien salió del empleo y se consideró libre; dejó que una parte muy pequeña de sí mismo se entendiera con las cosas exteriores y le llevara a su casa. (Felisberto)\n",
        "El hombre pisó algo blancuzco, y en seguida sintió la mordedura en el pie. Saltó adelante, y al volverse con un juramento vio una yaracacusú que, arrollada sobre sí misma, esperaba otro ataque. (Horacio)\n",
        "Su luna de miel fue un largo escalofrío. Rubia, angelical y tímida, el carácter duro de su marido heló sus soñadas niñerías de novia. Ella lo quería mucho, sin embargo, a veces con un ligero estremecimiento cuando volviendo de noche juntos por la calle, echaba una furtiva mirada a la alta estatura de Jordán, mudo desde hacía una hora. (Horacio)\n",
        "La canoa se deslizaba costeando el bosque, o lo que podía parecer bosque en aquella oscuridad. Más por instinto que por indicio alguno Subercasaux sentía su proximidad, pues las tinieblas eran un solo bloque infranqueable, que comenzaban en las manos del remero y subían hasta el cenit. El hombre conocía bastante bien su río, para no ignorar dónde se hallaba; pero en tal noche y bajo amenaza de lluvia, era muy distinto atracar entre tacuaras punzantes o pajonales podridos, que en su propio puertito. Y Subercasaux no iba solo en la canoa. (Horacio)\n",
        "\"\"\""
      ],
      "metadata": {
        "id": "STZ8J1kDN9QS"
      },
      "execution_count": null,
      "outputs": []
    },
    {
      "cell_type": "markdown",
      "source": [
        "Clasificación usando Naive Bayes"
      ],
      "metadata": {
        "id": "KLBoYUO8IP7t"
      }
    },
    {
      "cell_type": "code",
      "source": [
        "from sklearn.feature_extraction.text import CountVectorizer\n",
        "from sklearn.naive_bayes import MultinomialNB\n",
        "\n",
        "def dimeQuienfueNB(Texto):\n",
        "  # Preprocesamiento de datos\n",
        "  vocabulario = set(HoracioQuiroga + Felisberto + Saramago + stephanieMayer)\n",
        "  vectorizador = CountVectorizer(vocabulary=vocabulario)\n",
        "\n",
        "  X_train = vectorizador.transform([' '.join(HoracioQuiroga), ' '.join(Felisberto), ' '.join(Saramago), ' '.join(stephanieMayer)])\n",
        "  y_train = ['HoracioQuiroga', 'Felisberto', 'Saramago', 'stephanieMayer']  # Etiquetas de los autores\n",
        "\n",
        "  # Entrenamiento del modelo\n",
        "  modelo = MultinomialNB()\n",
        "  modelo.fit(X_train, y_train)\n",
        "\n",
        "  # Predicción\n",
        "  X_test = vectorizador.transform([Texto])\n",
        "  autor_predicho = modelo.predict(X_test)[0]\n",
        "  print(f\"El autor predicho para el texto es: {autor_predicho}\")\n",
        "  return autor_predicho\n"
      ],
      "metadata": {
        "id": "w887bsQx2xXw"
      },
      "execution_count": null,
      "outputs": []
    },
    {
      "cell_type": "markdown",
      "source": [
        "Clasificación usando SVM"
      ],
      "metadata": {
        "id": "1tJr3je9IZsr"
      }
    },
    {
      "cell_type": "code",
      "source": [
        "from sklearn.feature_extraction.text import TfidfVectorizer\n",
        "from sklearn.svm import LinearSVC\n",
        "\n",
        "def dimeQuienfueMSV(Texto):\n",
        "    # Preprocesamiento de datos\n",
        "    vocabulario = set(HoracioQuiroga + Felisberto + Saramago + stephanieMayer)\n",
        "    vectorizador = TfidfVectorizer(vocabulary=vocabulario)\n",
        "\n",
        "    X_train = vectorizador.fit_transform([' '.join(HoracioQuiroga), ' '.join(Felisberto), ' '.join(Saramago), ' '.join(stephanieMayer)])\n",
        "    y_train = ['HoracioQuiroga', 'Felisberto', 'Saramago', 'stephanieMayer']  # Etiquetas de los autores\n",
        "\n",
        "    # Entrenamiento del modelo\n",
        "    modelo = LinearSVC()\n",
        "    modelo.fit(X_train, y_train)\n",
        "\n",
        "    # Predicción\n",
        "    X_test = vectorizador.transform([Texto])\n",
        "    autor_predicho = modelo.predict(X_test)[0]\n",
        "    print(f\"El autor predicho para el texto es: {autor_predicho}\")\n",
        "    return autor_predicho"
      ],
      "metadata": {
        "id": "Xg1LEv6OH3JQ"
      },
      "execution_count": null,
      "outputs": []
    },
    {
      "cell_type": "markdown",
      "source": [
        "Clasificación usando RL"
      ],
      "metadata": {
        "id": "Y3YrrHpHIhql"
      }
    },
    {
      "cell_type": "code",
      "source": [
        "from sklearn.feature_extraction.text import TfidfVectorizer\n",
        "from sklearn.linear_model import LogisticRegression\n",
        "\n",
        "def dimeQuienfueRL(Texto):\n",
        "    # Preprocesamiento de datos\n",
        "    vocabulario = set(HoracioQuiroga + Felisberto + Saramago + stephanieMayer)\n",
        "    vectorizador = TfidfVectorizer(vocabulary=vocabulario)\n",
        "\n",
        "    X_train = vectorizador.fit_transform([' '.join(HoracioQuiroga), ' '.join(Felisberto), ' '.join(Saramago), ' '.join(stephanieMayer)])\n",
        "    y_train = ['HoracioQuiroga', 'Felisberto', 'Saramago', 'stephanieMayer']  # Etiquetas de los autores\n",
        "\n",
        "    # Entrenamiento del modelo\n",
        "    modelo = LogisticRegression(multi_class='multinomial', solver='lbfgs')\n",
        "    modelo.fit(X_train, y_train)\n",
        "\n",
        "    # Predicción\n",
        "    X_test = vectorizador.transform([Texto])\n",
        "    autor_predicho = modelo.predict(X_test)[0]\n",
        "    print(f\"El autor predicho para el texto es: {autor_predicho}\")\n",
        "    return autor_predicho"
      ],
      "metadata": {
        "id": "5IcSMVRfJENA"
      },
      "execution_count": null,
      "outputs": []
    },
    {
      "cell_type": "code",
      "source": [
        "def ClasificacionFinal(texto):\n",
        "    # Obtener las predicciones de las funciones individuales\n",
        "    prediccionMSV = dimeQuienfueMSV(texto)\n",
        "    prediccionNB = dimeQuienfueNB(texto)\n",
        "    prediccionRL = dimeQuienfueRL(texto)\n",
        "\n",
        "    # Crear un diccionario para almacenar los votos para cada autor\n",
        "    votos = {'HoracioQuiroga': 0, 'Felisberto': 0, 'Saramago': 0, 'stephanieMayer': 0}\n",
        "\n",
        "    # Contar los votos para cada autor\n",
        "    predicciones = [prediccionMSV, prediccionNB, prediccionRL]\n",
        "    for prediccion in predicciones:\n",
        "        if prediccion in votos:\n",
        "            votos[prediccion] += 1\n",
        "\n",
        "    # Identificar el autor con mayor número de votos\n",
        "    autorMayorVotos = max(votos, key=votos.get)\n",
        "\n",
        "    return autorMayorVotos\n"
      ],
      "metadata": {
        "id": "ZmoTjbGhUtOE"
      },
      "execution_count": null,
      "outputs": []
    },
    {
      "cell_type": "code",
      "source": [
        "texto = input('Dame el texto a clasificar: ')\n",
        "\n",
        "autor_predicho = ClasificacionFinal(texto)\n",
        "print(f\"El autor final predicho para el texto es: {autor_predicho}\")"
      ],
      "metadata": {
        "colab": {
          "base_uri": "https://localhost:8080/"
        },
        "id": "7EGS4MHSJJBJ",
        "outputId": "3d7a0d23-fb03-4bbb-b2c2-7aee1257556a"
      },
      "execution_count": null,
      "outputs": [
        {
          "output_type": "stream",
          "name": "stdout",
          "text": [
            "Dame el texto a clasificar:  Alicia lo miró con extravió, miró la alfombra, volvió a mirarlo, y después de largo rato de estupefacta confrontación, se serenó. Sonrió y tomó entre las suyas la mano de su marido, acariciándola temblando.  Entre sus alucinaciones más porfiadas, hubo un antropoide, apoyado en la alfombra sobre los dedos, que tenía fijos en ella los ojos.  Los médicos volvieron inútilmente. Había allí delante de ellos una vida que se acababa, desangrándose día a día, hora a hora, sin saber absolutamente cómo. En la última consulta Alicia yacía en estupor mientras ellos la pulsaban, pasándose de uno a otro la muñeca inerte. La observaron largo rato en silencio y siguieron al comedor.  -Pst… -se encogió de hombros desalentado su médico-. Es un caso serio… poco hay que hacer…  -¡Sólo eso me faltaba! -resopló Jordán. Y tamborileó bruscamente sobre la mesa.\n",
            "El autor predicho para el texto es: HoracioQuiroga\n",
            "El autor predicho para el texto es: Felisberto\n",
            "El autor predicho para el texto es: HoracioQuiroga\n",
            "El autor final predicho para el texto es: HoracioQuiroga\n"
          ]
        }
      ]
    }
  ]
}